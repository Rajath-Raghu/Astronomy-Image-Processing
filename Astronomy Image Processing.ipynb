{
 "cells": [
  {
   "cell_type": "code",
   "execution_count": 1,
   "id": "d25100c1",
   "metadata": {},
   "outputs": [
    {
     "name": "stdout",
     "output_type": "stream",
     "text": [
      "Requirement already satisfied: astroquery in f:\\anaconda\\lib\\site-packages (0.4.6)\n",
      "Requirement already satisfied: beautifulsoup4>=4.3.2 in f:\\anaconda\\lib\\site-packages (from astroquery) (4.10.0)\n",
      "Requirement already satisfied: pyvo>=1.1 in f:\\anaconda\\lib\\site-packages (from astroquery) (1.5.1)\n",
      "Requirement already satisfied: numpy>=1.16 in f:\\anaconda\\lib\\site-packages (from astroquery) (1.22.1)\n",
      "Requirement already satisfied: astropy>=4.0 in f:\\anaconda\\lib\\site-packages (from astroquery) (6.0.0)\n",
      "Requirement already satisfied: keyring>=4.0 in f:\\anaconda\\lib\\site-packages (from astroquery) (24.3.1)\n",
      "Requirement already satisfied: html5lib>=0.999 in f:\\anaconda\\lib\\site-packages (from astroquery) (1.1)\n",
      "Requirement already satisfied: requests>=2.4.3 in f:\\anaconda\\lib\\site-packages (from astroquery) (2.26.0)\n",
      "Requirement already satisfied: PyYAML>=3.13 in f:\\anaconda\\lib\\site-packages (from astropy>=4.0->astroquery) (6.0)\n",
      "Requirement already satisfied: packaging>=19.0 in f:\\anaconda\\lib\\site-packages (from astropy>=4.0->astroquery) (21.3)\n",
      "Requirement already satisfied: pyerfa>=2.0 in f:\\anaconda\\lib\\site-packages (from astropy>=4.0->astroquery) (2.0.1.1)\n",
      "Requirement already satisfied: astropy-iers-data>=0.2023.10.30.0.29.53 in f:\\anaconda\\lib\\site-packages (from astropy>=4.0->astroquery) (0.2024.3.4.0.30.17)\n",
      "Requirement already satisfied: soupsieve>1.2 in f:\\anaconda\\lib\\site-packages (from beautifulsoup4>=4.3.2->astroquery) (2.3.1)\n",
      "Requirement already satisfied: six>=1.9 in f:\\anaconda\\lib\\site-packages (from html5lib>=0.999->astroquery) (1.16.0)\n",
      "Requirement already satisfied: webencodings in f:\\anaconda\\lib\\site-packages (from html5lib>=0.999->astroquery) (0.5.1)\n",
      "Requirement already satisfied: importlib-metadata>=4.11.4 in f:\\anaconda\\lib\\site-packages (from keyring>=4.0->astroquery) (7.0.1)\n",
      "Requirement already satisfied: pywin32-ctypes>=0.2.0 in f:\\anaconda\\lib\\site-packages (from keyring>=4.0->astroquery) (0.2.2)\n",
      "Requirement already satisfied: jaraco.classes in f:\\anaconda\\lib\\site-packages (from keyring>=4.0->astroquery) (3.3.1)\n",
      "Requirement already satisfied: zipp>=0.5 in f:\\anaconda\\lib\\site-packages (from importlib-metadata>=4.11.4->keyring>=4.0->astroquery) (3.6.0)\n",
      "Requirement already satisfied: pyparsing!=3.0.5,>=2.0.2 in f:\\anaconda\\lib\\site-packages (from packaging>=19.0->astropy>=4.0->astroquery) (3.0.4)\n",
      "Requirement already satisfied: idna<4,>=2.5 in f:\\anaconda\\lib\\site-packages (from requests>=2.4.3->astroquery) (3.3)\n",
      "Requirement already satisfied: charset-normalizer~=2.0.0 in f:\\anaconda\\lib\\site-packages (from requests>=2.4.3->astroquery) (2.0.4)\n",
      "Requirement already satisfied: certifi>=2017.4.17 in f:\\anaconda\\lib\\site-packages (from requests>=2.4.3->astroquery) (2021.10.8)\n",
      "Requirement already satisfied: urllib3<1.27,>=1.21.1 in f:\\anaconda\\lib\\site-packages (from requests>=2.4.3->astroquery) (1.26.7)\n",
      "Requirement already satisfied: more-itertools in f:\\anaconda\\lib\\site-packages (from jaraco.classes->keyring>=4.0->astroquery) (10.2.0)\n"
     ]
    }
   ],
   "source": [
    "# Installing Astroquery\n",
    "!pip install astroquery"
   ]
  },
  {
   "cell_type": "code",
   "execution_count": 1,
   "id": "831079c9",
   "metadata": {},
   "outputs": [],
   "source": [
    "# Importing Libraries\n",
    "import matplotlib.pyplot as plt\n",
    "import astropy.units as u\n",
    "import numpy as np\n",
    "from astroquery.skyview import SkyView"
   ]
  },
  {
   "cell_type": "code",
   "execution_count": 2,
   "id": "2cc86221",
   "metadata": {},
   "outputs": [],
   "source": [
    "# Getting Andromeda data (M31) from SDSSg Survey\n",
    "primary_hdu = SkyView.get_images(\"M31\", \"DSS1 Blue\", pixels = 600, radius = 150 * u.arcmin)[0][0]"
   ]
  },
  {
   "cell_type": "code",
   "execution_count": 4,
   "id": "323cf9e6",
   "metadata": {},
   "outputs": [
    {
     "data": {
      "text/plain": [
       "SIMPLE  =                    T / Written by SkyView Tue Mar 26 08:46:16 EDT 2024\n",
       "BITPIX  =                  -32 / 4 byte floating point                          \n",
       "NAXIS   =                    2 / Two dimensional image                          \n",
       "NAXIS1  =                  600 / Width of image                                 \n",
       "NAXIS2  =                  600 / Height of image                                \n",
       "CRVAL1  =              10.6847 / Reference longitude                            \n",
       "CRVAL2  =              41.2688 / Reference latitude                             \n",
       "RADESYS = 'FK5     '           / Coordinate system                              \n",
       "EQUINOX =               2000.0 / Epoch of the equinox                           \n",
       "CTYPE1  = 'RA---TAN'           / Coordinates -- projection                      \n",
       "CTYPE2  = 'DEC--TAN'           / Coordinates -- projection                      \n",
       "CRPIX1  =                300.5 / X reference pixel                              \n",
       "CRPIX2  =                300.5 / Y reference pixel                              \n",
       "CDELT1  = -0.004166666666666667 / X scale                                       \n",
       "CDELT2  = 0.004166666666666667 / Y scale                                        \n",
       "COMMENT                                                                         \n",
       "COMMENT SkyView Survey metadata                                                 \n",
       "COMMENT                                                                         \n",
       "COMMENT Provenance:  Data taken by CalTech, Compression                    and  \n",
       "COMMENT           distribution by Space Telescope Science Institute.            \n",
       "COMMENT Copyright:   STScI, CalTech, National Geographic Society.            F  \n",
       "COMMENT          ull copyright notice                                           \n",
       "COMMENT Regime:      Optical                                                    \n",
       "COMMENT NSurvey:     1                                                          \n",
       "COMMENT Frequency:   638 THz                                                    \n",
       "COMMENT Bandpass:    517-967 THz                                                \n",
       "COMMENT Coverage:    North of -30 degrees declination                           \n",
       "COMMENT PixelScale:  1.7\"                                                       \n",
       "COMMENT Units:       Scaled densities                                           \n",
       "COMMENT Resolution:  Depends on plate.  Typically 2\"                            \n",
       "COMMENT Coordinates: Equatorial                                                 \n",
       "COMMENT Projection:  Schmidt (distorted Tangent plane projection)               \n",
       "COMMENT Equinox:     2000                                                       \n",
       "COMMENT Epoch:       1975-1988                                                  \n",
       "COMMENT Reference:   Lasker, et al., 1990, A.J. 99                              \n",
       "COMMENT                                                                         \n",
       "COMMENT Survey specific cards                                                   \n",
       "COMMENT                                                                         \n",
       "SURVEY  = 'Digitized Sky Survey 1: Blue'                                        \n",
       "ORIGIN  = 'CASB -- STScI'      / Origin of FITS image                           \n",
       "COMMENT TELESCOP= 'Palomar 48-inch Schmidt' /Telescope where plate taken        \n",
       "COMMENT SITELONG= '-116:51:48.00'      /Longitude of Observatory                \n",
       "COMMENT SITELAT = '+33:24:24.00'       /Latitute of Observatory                 \n",
       "SCANIMG = 'CASB -- STScI'      / Name of original scan                          \n",
       "COMMENT Based on photographic data obtained using Oschin Schmidt Telescope      \n",
       "COMMENT on Palomar Mountain.  The Palomar Observatory Sky Survey was funded     \n",
       "COMMENT by the National Geographic Society.  The Oschin Shmidt Telescope is     \n",
       "COMMENT operated by the California Institue of Technology and Palomar           \n",
       "COMMENT Observatory.  The plates were processed into the present compressed     \n",
       "COMMENT digital format with their permission.  The Digitized Sky Survey was     \n",
       "COMMENT produced at the Space Telescope Science Institute (ST ScI) under        \n",
       "COMMENT U. S. Goverment grant NAG W-2166.                                       \n",
       "COMMENT                                                                         \n",
       "COMMENT Investigators using these scans are requested to include the above      \n",
       "COMMENT acknowledgements in any publications.                                   \n",
       "COMMENT                                                                         \n",
       "COMMENT Copyright (c) 1994, Association of Universities for Research in         \n",
       "COMMENT Astronomy, Inc.  All rights reserved.                                   \n",
       "COMMENT                                                                         \n",
       "HISTORY                                                                         \n",
       "HISTORY Settings used in processing:                                            \n",
       "HISTORY                                                                         \n",
       "HISTORY cache = /data/cache/surveys/                                            \n",
       "HISTORY catalogids = on                                                         \n",
       "HISTORY coordinates = J2000.0                                                   \n",
       "HISTORY deedger = skyview.process.Deedger                                       \n",
       "HISTORY descriptionxslt = cgifiles/description.xsl                              \n",
       "HISTORY dft_cache = ./skycache/                                                 \n",
       "HISTORY dummy                                                                   \n",
       "HISTORY equinox = 2000                                                          \n",
       "HISTORY fileprefix = https://skyview.gsfc.nasa.gov/surveys/dss2/                \n",
       "HISTORY finalpostprocessor = skyview.ij.IJProcessor,skyview.data.BoxSmoother,sky\n",
       "HISTORY float = on                                                              \n",
       "HISTORY footertemplate = cgifiles/skyfooter.html                                \n",
       "HISTORY gallerydir = /userimages                                                \n",
       "HISTORY galleryxslt = cgifiles/gallerymultipage.xsl                             \n",
       "HISTORY gridlabels = 0                                                          \n",
       "HISTORY headertemplate = cgifiles/skyheader.html                                \n",
       "HISTORY htmlwriter = skyview.request.HTMLWriter                                 \n",
       "HISTORY imagefactory = skyview.survey.DSSImageFactory                           \n",
       "HISTORY imagesize = 5                                                           \n",
       "HISTORY imscale = 2.5                                                           \n",
       "HISTORY localurl = https://skyview.gsfc.nasa.gov/surveys,/skyview/htdocs/surveys\n",
       "HISTORY lut = colortables/b-w-linear.bin                                        \n",
       "HISTORY lutcbarpath = ../images/colorbars/                                      \n",
       "HISTORY mosaicker = skyview.process.Mosaicker                                   \n",
       "HISTORY name = First Digitized Sky Survey: Blue Plates                          \n",
       "HISTORY noexit =                                                                \n",
       "HISTORY nullimagedir = ../images/nodata                                         \n",
       "HISTORY output = ../../tempspace/fits/skv12175898764864                         \n",
       "HISTORY outputroot = ../../tempspace/fits                                       \n",
       "HISTORY pixels = 600                                                            \n",
       "HISTORY position = 10.6847 41.2688                                              \n",
       "HISTORY postprocessor = skyview.ij.IJProcessor,skyview.request.HTMLWriter       \n",
       "HISTORY projection = Tan                                                        \n",
       "HISTORY quicklook = jpeg                                                        \n",
       "HISTORY reqxpos = 10.6847                                                       \n",
       "HISTORY reqypos = 41.2688                                                       \n",
       "HISTORY resolver = SIMBAD-NED                                                   \n",
       "HISTORY rgbtemplate = cgifiles/skyrgb.html                                      \n",
       "HISTORY rgbwriter = skyview.request.RGBWriter                                   \n",
       "HISTORY sampler = Default                                                       \n",
       "HISTORY savebysurvey                                                            \n",
       "HISTORY scale = 0.0004722222                                                    \n",
       "HISTORY scaling = Log Sqrt Linear HistEq LogLog                                 \n",
       "HISTORY settingsupdaters = BatchCompatibility,SettingsFixer,skyview.request.Toas\n",
       "HISTORY shortname = DSS1B,DSS1 Blue                                             \n",
       "HISTORY sia_header = ./sia.header                                               \n",
       "HISTORY siabase = https://skyview.gsfc.nasa.gov/cgi-bin/images?                 \n",
       "HISTORY siaimagetimeout = 300000                                                \n",
       "HISTORY size = 2.5,2.5                                                          \n",
       "HISTORY survey = DSS1 Blue                                                      \n",
       "HISTORY surveyfinder = skyview.survey.XMLSurveyFinder                           \n",
       "HISTORY surveymanifest = surveys/survey.manifest                                \n",
       "HISTORY surveyregimes = Radio,Millimeter,Infrared,Optical,Ultraviolet,X-ray,Gamm\n",
       "HISTORY surveysheader = cgifiles/survey.header                                  \n",
       "HISTORY surveytemplate = cgifiles/skysurvey.html                                \n",
       "HISTORY url.heasarcbase = https://heasarc.gsfc.nasa.gov/xamin/vo/cone?showoffset\n",
       "HISTORY url.ned = http://nedwww.ipac.caltech.edu/cgi-bin/nph-NEDobjsearch?search\n",
       "HISTORY url.simbad = http://simbad.u-strasbg.fr/simbad-conesearch.pl?           \n",
       "HISTORY url.vizierbase = http://vizier.u-strasbg.fr/viz-bin/votable/-dtd/-A?-out\n",
       "HISTORY urllocalhelp = https://skyview.gsfc.nasa.gov/help/help.html             \n",
       "HISTORY version = 3.5.7                                                         \n",
       "HISTORY webrootpath = /skyview/htdocs                                           \n",
       "HISTORY xmlurlprefix = https://skyview.gsfc.nasa.gov/current/jar/               \n",
       "HISTORY                                                                         \n",
       "HISTORY Map generated at: Tue Mar 26 08:46:16 EDT 2024                          \n",
       "HISTORY                                                                         \n",
       "HISTORY Resampler used: NNSampler                                               \n",
       "HISTORY                                                                         \n",
       "HISTORY                                                                         \n",
       "HISTORY Image mosaicking usingskyview.process.Mosaicker                         \n",
       "HISTORY                                                                         \n",
       "HISTORY  Used image:https://skyview.gsfc.nasa.gov/surveys/dss2/xo/xo193         \n",
       "HISTORY       Pixels:360000                                                     \n",
       "HISTORY                                                                         "
      ]
     },
     "execution_count": 4,
     "metadata": {},
     "output_type": "execute_result"
    }
   ],
   "source": [
    "# Getting the header data\n",
    "primary_hdu.header"
   ]
  },
  {
   "cell_type": "code",
   "execution_count": 3,
   "id": "57602d59",
   "metadata": {},
   "outputs": [],
   "source": [
    "# Getting the image data and storing\n",
    "M31_DSS1Blue_Pixels = primary_hdu.data"
   ]
  },
  {
   "cell_type": "code",
   "execution_count": 4,
   "id": "afc0d589",
   "metadata": {},
   "outputs": [
    {
     "data": {
      "text/plain": [
       "(600, 600)"
      ]
     },
     "execution_count": 4,
     "metadata": {},
     "output_type": "execute_result"
    }
   ],
   "source": [
    "# Getting the Shape\n",
    "M31_DSS1Blue_Pixels.shape"
   ]
  },
  {
   "cell_type": "code",
   "execution_count": 5,
   "id": "90b2319d",
   "metadata": {},
   "outputs": [
    {
     "data": {
      "text/plain": [
       "<matplotlib.image.AxesImage at 0xd40f7d2670>"
      ]
     },
     "execution_count": 5,
     "metadata": {},
     "output_type": "execute_result"
    },
    {
     "data": {
      "image/png": "[encoded data removed]",
      "text/plain": [
       "<Figure size 432x288 with 1 Axes>"
      ]
     },
     "metadata": {
      "needs_background": "light"
     },
     "output_type": "display_data"
    }
   ],
   "source": [
    "# Plotting the image\n",
    "plt.imshow(M31_DSS1Blue_Pixels, cmap= 'gray', origin = 'lower')"
   ]
  },
  {
   "cell_type": "markdown",
   "id": "40f2d388",
   "metadata": {},
   "source": [
    "### **Creating FITS File**"
   ]
  },
  {
   "cell_type": "code",
   "execution_count": 8,
   "id": "25b682f3",
   "metadata": {},
   "outputs": [],
   "source": [
    "# Importing fits from io module of astropy\n",
    "from astropy.io import fits"
   ]
  },
  {
   "cell_type": "code",
   "execution_count": 11,
   "id": "1d6b206a",
   "metadata": {},
   "outputs": [],
   "source": [
    "# Create HDUList() to store diff HDUs\n",
    "HDU_List = fits.HDUList()\n",
    "\n",
    "# Creating a Primay HDU\n",
    "hdu1 = fits.PrimaryHDU()\n",
    "\n",
    "# Adding Header data\n",
    "hdu1.header = primary_hdu.header\n",
    "\n",
    "# Adding Pixel Data\n",
    "hdu1.data = M31_DSS1Blue_Pixels\n",
    "\n",
    "# Appending Primary HDU to HDU List\n",
    "HDU_List.append(hdu1)\n",
    "\n",
    "# Generating the FITS file\n",
    "HDU_List.writeto(\"Dummy_FITS_file.fits\")"
   ]
  },
  {
   "cell_type": "markdown",
   "id": "cb5776f6",
   "metadata": {},
   "source": [
    "### **Pixel Scaling**"
   ]
  },
  {
   "cell_type": "code",
   "execution_count": 6,
   "id": "095d972b",
   "metadata": {},
   "outputs": [
    {
     "ename": "HTTPError",
     "evalue": "HTTP Error 404: Not Found",
     "output_type": "error",
     "traceback": [
      "\u001b[1;31m---------------------------------------------------------------------------\u001b[0m",
      "\u001b[1;31mHTTPError\u001b[0m                                 Traceback (most recent call last)",
      "\u001b[1;32mC:\\Users\\RR4C19~1\\AppData\\Local\\Temp/ipykernel_7896/2100780708.py\u001b[0m in \u001b[0;36m<module>\u001b[1;34m\u001b[0m\n\u001b[0;32m      1\u001b[0m \u001b[1;31m# Taking SDSSg image from SkyView\u001b[0m\u001b[1;33m\u001b[0m\u001b[1;33m\u001b[0m\u001b[0m\n\u001b[1;32m----> 2\u001b[1;33m \u001b[0mSDSSg_hdu\u001b[0m \u001b[1;33m=\u001b[0m \u001b[0mSkyView\u001b[0m\u001b[1;33m.\u001b[0m\u001b[0mget_images\u001b[0m\u001b[1;33m(\u001b[0m\u001b[1;34m\"M31\"\u001b[0m\u001b[1;33m,\u001b[0m \u001b[1;34m\"SDSSg\"\u001b[0m\u001b[1;33m)\u001b[0m\u001b[1;33m[\u001b[0m\u001b[1;36m0\u001b[0m\u001b[1;33m]\u001b[0m\u001b[1;33m[\u001b[0m\u001b[1;36m0\u001b[0m\u001b[1;33m]\u001b[0m\u001b[1;33m\u001b[0m\u001b[1;33m\u001b[0m\u001b[0m\n\u001b[0m",
      "\u001b[1;32mF:\\Anaconda\\lib\\site-packages\\astroquery\\skyview\\core.py\u001b[0m in \u001b[0;36mget_images\u001b[1;34m(self, position, survey, coordinates, projection, pixels, scaling, sampler, resolver, deedger, lut, grid, gridlabels, radius, height, width, cache, show_progress)\u001b[0m\n\u001b[0;32m    206\u001b[0m                                                  \u001b[0mcache\u001b[0m\u001b[1;33m=\u001b[0m\u001b[0mcache\u001b[0m\u001b[1;33m,\u001b[0m\u001b[1;33m\u001b[0m\u001b[1;33m\u001b[0m\u001b[0m\n\u001b[0;32m    207\u001b[0m                                                  show_progress=show_progress)\n\u001b[1;32m--> 208\u001b[1;33m         \u001b[1;32mreturn\u001b[0m \u001b[1;33m[\u001b[0m\u001b[0mobj\u001b[0m\u001b[1;33m.\u001b[0m\u001b[0mget_fits\u001b[0m\u001b[1;33m(\u001b[0m\u001b[1;33m)\u001b[0m \u001b[1;32mfor\u001b[0m \u001b[0mobj\u001b[0m \u001b[1;32min\u001b[0m \u001b[0mreadable_objects\u001b[0m\u001b[1;33m]\u001b[0m\u001b[1;33m\u001b[0m\u001b[1;33m\u001b[0m\u001b[0m\n\u001b[0m\u001b[0;32m    209\u001b[0m \u001b[1;33m\u001b[0m\u001b[0m\n\u001b[0;32m    210\u001b[0m     \u001b[1;33m@\u001b[0m\u001b[0mprepend_docstr_nosections\u001b[0m\u001b[1;33m(\u001b[0m\u001b[0mget_images\u001b[0m\u001b[1;33m.\u001b[0m\u001b[0m__doc__\u001b[0m\u001b[1;33m)\u001b[0m\u001b[1;33m\u001b[0m\u001b[1;33m\u001b[0m\u001b[0m\n",
      "\u001b[1;32mF:\\Anaconda\\lib\\site-packages\\astroquery\\skyview\\core.py\u001b[0m in \u001b[0;36m<listcomp>\u001b[1;34m(.0)\u001b[0m\n\u001b[0;32m    206\u001b[0m                                                  \u001b[0mcache\u001b[0m\u001b[1;33m=\u001b[0m\u001b[0mcache\u001b[0m\u001b[1;33m,\u001b[0m\u001b[1;33m\u001b[0m\u001b[1;33m\u001b[0m\u001b[0m\n\u001b[0;32m    207\u001b[0m                                                  show_progress=show_progress)\n\u001b[1;32m--> 208\u001b[1;33m         \u001b[1;32mreturn\u001b[0m \u001b[1;33m[\u001b[0m\u001b[0mobj\u001b[0m\u001b[1;33m.\u001b[0m\u001b[0mget_fits\u001b[0m\u001b[1;33m(\u001b[0m\u001b[1;33m)\u001b[0m \u001b[1;32mfor\u001b[0m \u001b[0mobj\u001b[0m \u001b[1;32min\u001b[0m \u001b[0mreadable_objects\u001b[0m\u001b[1;33m]\u001b[0m\u001b[1;33m\u001b[0m\u001b[1;33m\u001b[0m\u001b[0m\n\u001b[0m\u001b[0;32m    209\u001b[0m \u001b[1;33m\u001b[0m\u001b[0m\n\u001b[0;32m    210\u001b[0m     \u001b[1;33m@\u001b[0m\u001b[0mprepend_docstr_nosections\u001b[0m\u001b[1;33m(\u001b[0m\u001b[0mget_images\u001b[0m\u001b[1;33m.\u001b[0m\u001b[0m__doc__\u001b[0m\u001b[1;33m)\u001b[0m\u001b[1;33m\u001b[0m\u001b[1;33m\u001b[0m\u001b[0m\n",
      "\u001b[1;32mF:\\Anaconda\\lib\\site-packages\\astroquery\\utils\\commons.py\u001b[0m in \u001b[0;36mget_fits\u001b[1;34m(self)\u001b[0m\n\u001b[0;32m    373\u001b[0m         \u001b[1;32mand\u001b[0m \u001b[1;32mreturn\u001b[0m \u001b[0mthe\u001b[0m \u001b[0mfile\u001b[0m \u001b[0mparsed\u001b[0m \u001b[1;32mas\u001b[0m \u001b[0mFITS\u001b[0m \u001b[0mHDUList\u001b[0m\u001b[1;33m\u001b[0m\u001b[1;33m\u001b[0m\u001b[0m\n\u001b[0;32m    374\u001b[0m         \"\"\"\n\u001b[1;32m--> 375\u001b[1;33m         \u001b[0mfiledata\u001b[0m \u001b[1;33m=\u001b[0m \u001b[0mself\u001b[0m\u001b[1;33m.\u001b[0m\u001b[0mget_string\u001b[0m\u001b[1;33m(\u001b[0m\u001b[1;33m)\u001b[0m\u001b[1;33m\u001b[0m\u001b[1;33m\u001b[0m\u001b[0m\n\u001b[0m\u001b[0;32m    376\u001b[0m \u001b[1;33m\u001b[0m\u001b[0m\n\u001b[0;32m    377\u001b[0m         \u001b[1;32mif\u001b[0m \u001b[0mlen\u001b[0m\u001b[1;33m(\u001b[0m\u001b[0mfiledata\u001b[0m\u001b[1;33m)\u001b[0m \u001b[1;33m==\u001b[0m \u001b[1;36m0\u001b[0m\u001b[1;33m:\u001b[0m\u001b[1;33m\u001b[0m\u001b[1;33m\u001b[0m\u001b[0m\n",
      "\u001b[1;32mF:\\Anaconda\\lib\\site-packages\\astroquery\\utils\\commons.py\u001b[0m in \u001b[0;36mget_string\u001b[1;34m(self)\u001b[0m\n\u001b[0;32m    428\u001b[0m                                        format(t=self._timeout))\n\u001b[0;32m    429\u001b[0m                 \u001b[1;32melse\u001b[0m\u001b[1;33m:\u001b[0m\u001b[1;33m\u001b[0m\u001b[1;33m\u001b[0m\u001b[0m\n\u001b[1;32m--> 430\u001b[1;33m                     \u001b[1;32mraise\u001b[0m \u001b[0me\u001b[0m\u001b[1;33m\u001b[0m\u001b[1;33m\u001b[0m\u001b[0m\n\u001b[0m\u001b[0;32m    431\u001b[0m \u001b[1;33m\u001b[0m\u001b[0m\n\u001b[0;32m    432\u001b[0m         \u001b[1;32mreturn\u001b[0m \u001b[0mself\u001b[0m\u001b[1;33m.\u001b[0m\u001b[0m_string\u001b[0m\u001b[1;33m\u001b[0m\u001b[1;33m\u001b[0m\u001b[0m\n",
      "\u001b[1;32mF:\\Anaconda\\lib\\site-packages\\astroquery\\utils\\commons.py\u001b[0m in \u001b[0;36mget_string\u001b[1;34m(self)\u001b[0m\n\u001b[0;32m    420\u001b[0m         \u001b[1;32mif\u001b[0m \u001b[1;32mnot\u001b[0m \u001b[0mhasattr\u001b[0m\u001b[1;33m(\u001b[0m\u001b[0mself\u001b[0m\u001b[1;33m,\u001b[0m \u001b[1;34m'_string'\u001b[0m\u001b[1;33m)\u001b[0m\u001b[1;33m:\u001b[0m\u001b[1;33m\u001b[0m\u001b[1;33m\u001b[0m\u001b[0m\n\u001b[0;32m    421\u001b[0m             \u001b[1;32mtry\u001b[0m\u001b[1;33m:\u001b[0m\u001b[1;33m\u001b[0m\u001b[1;33m\u001b[0m\u001b[0m\n\u001b[1;32m--> 422\u001b[1;33m                 \u001b[1;32mwith\u001b[0m \u001b[0mself\u001b[0m\u001b[1;33m.\u001b[0m\u001b[0m_readable_object\u001b[0m \u001b[1;32mas\u001b[0m \u001b[0mf\u001b[0m\u001b[1;33m:\u001b[0m\u001b[1;33m\u001b[0m\u001b[1;33m\u001b[0m\u001b[0m\n\u001b[0m\u001b[0;32m    423\u001b[0m                     \u001b[0mdata\u001b[0m \u001b[1;33m=\u001b[0m \u001b[0mf\u001b[0m\u001b[1;33m.\u001b[0m\u001b[0mread\u001b[0m\u001b[1;33m(\u001b[0m\u001b[1;33m)\u001b[0m\u001b[1;33m\u001b[0m\u001b[1;33m\u001b[0m\u001b[0m\n\u001b[0;32m    424\u001b[0m                     \u001b[0mself\u001b[0m\u001b[1;33m.\u001b[0m\u001b[0m_string\u001b[0m \u001b[1;33m=\u001b[0m \u001b[0mdata\u001b[0m\u001b[1;33m\u001b[0m\u001b[1;33m\u001b[0m\u001b[0m\n",
      "\u001b[1;32mF:\\Anaconda\\lib\\contextlib.py\u001b[0m in \u001b[0;36m__enter__\u001b[1;34m(self)\u001b[0m\n\u001b[0;32m    117\u001b[0m         \u001b[1;32mdel\u001b[0m \u001b[0mself\u001b[0m\u001b[1;33m.\u001b[0m\u001b[0margs\u001b[0m\u001b[1;33m,\u001b[0m \u001b[0mself\u001b[0m\u001b[1;33m.\u001b[0m\u001b[0mkwds\u001b[0m\u001b[1;33m,\u001b[0m \u001b[0mself\u001b[0m\u001b[1;33m.\u001b[0m\u001b[0mfunc\u001b[0m\u001b[1;33m\u001b[0m\u001b[1;33m\u001b[0m\u001b[0m\n\u001b[0;32m    118\u001b[0m         \u001b[1;32mtry\u001b[0m\u001b[1;33m:\u001b[0m\u001b[1;33m\u001b[0m\u001b[1;33m\u001b[0m\u001b[0m\n\u001b[1;32m--> 119\u001b[1;33m             \u001b[1;32mreturn\u001b[0m \u001b[0mnext\u001b[0m\u001b[1;33m(\u001b[0m\u001b[0mself\u001b[0m\u001b[1;33m.\u001b[0m\u001b[0mgen\u001b[0m\u001b[1;33m)\u001b[0m\u001b[1;33m\u001b[0m\u001b[1;33m\u001b[0m\u001b[0m\n\u001b[0m\u001b[0;32m    120\u001b[0m         \u001b[1;32mexcept\u001b[0m \u001b[0mStopIteration\u001b[0m\u001b[1;33m:\u001b[0m\u001b[1;33m\u001b[0m\u001b[1;33m\u001b[0m\u001b[0m\n\u001b[0;32m    121\u001b[0m             \u001b[1;32mraise\u001b[0m \u001b[0mRuntimeError\u001b[0m\u001b[1;33m(\u001b[0m\u001b[1;34m\"generator didn't yield\"\u001b[0m\u001b[1;33m)\u001b[0m \u001b[1;32mfrom\u001b[0m \u001b[1;32mNone\u001b[0m\u001b[1;33m\u001b[0m\u001b[1;33m\u001b[0m\u001b[0m\n",
      "\u001b[1;32mF:\\Anaconda\\lib\\site-packages\\astropy\\utils\\data.py\u001b[0m in \u001b[0;36mget_readable_fileobj\u001b[1;34m(name_or_obj, encoding, cache, show_progress, remote_timeout, sources, http_headers, use_fsspec, fsspec_kwargs, close_files)\u001b[0m\n\u001b[0;32m    354\u001b[0m             \u001b[0mis_url\u001b[0m \u001b[1;33m=\u001b[0m \u001b[0m_is_url\u001b[0m\u001b[1;33m(\u001b[0m\u001b[0mname_or_obj\u001b[0m\u001b[1;33m)\u001b[0m\u001b[1;33m\u001b[0m\u001b[1;33m\u001b[0m\u001b[0m\n\u001b[0;32m    355\u001b[0m             \u001b[1;32mif\u001b[0m \u001b[0mis_url\u001b[0m\u001b[1;33m:\u001b[0m\u001b[1;33m\u001b[0m\u001b[1;33m\u001b[0m\u001b[0m\n\u001b[1;32m--> 356\u001b[1;33m                 name_or_obj = download_file(\n\u001b[0m\u001b[0;32m    357\u001b[0m                     \u001b[0mname_or_obj\u001b[0m\u001b[1;33m,\u001b[0m\u001b[1;33m\u001b[0m\u001b[1;33m\u001b[0m\u001b[0m\n\u001b[0;32m    358\u001b[0m                     \u001b[0mcache\u001b[0m\u001b[1;33m=\u001b[0m\u001b[0mcache\u001b[0m\u001b[1;33m,\u001b[0m\u001b[1;33m\u001b[0m\u001b[1;33m\u001b[0m\u001b[0m\n",
      "\u001b[1;32mF:\\Anaconda\\lib\\site-packages\\astropy\\utils\\data.py\u001b[0m in \u001b[0;36mdownload_file\u001b[1;34m(remote_url, cache, show_progress, timeout, sources, pkgname, http_headers, ssl_context, allow_insecure)\u001b[0m\n\u001b[0;32m   1559\u001b[0m             )\n\u001b[0;32m   1560\u001b[0m         \u001b[1;32melif\u001b[0m \u001b[0mlen\u001b[0m\u001b[1;33m(\u001b[0m\u001b[0msources\u001b[0m\u001b[1;33m)\u001b[0m \u001b[1;33m==\u001b[0m \u001b[1;36m1\u001b[0m\u001b[1;33m:\u001b[0m\u001b[1;33m\u001b[0m\u001b[1;33m\u001b[0m\u001b[0m\n\u001b[1;32m-> 1561\u001b[1;33m             \u001b[1;32mraise\u001b[0m \u001b[0merrors\u001b[0m\u001b[1;33m[\u001b[0m\u001b[0msources\u001b[0m\u001b[1;33m[\u001b[0m\u001b[1;36m0\u001b[0m\u001b[1;33m]\u001b[0m\u001b[1;33m]\u001b[0m\u001b[1;33m\u001b[0m\u001b[1;33m\u001b[0m\u001b[0m\n\u001b[0m\u001b[0;32m   1562\u001b[0m         \u001b[1;32melse\u001b[0m\u001b[1;33m:\u001b[0m\u001b[1;33m\u001b[0m\u001b[1;33m\u001b[0m\u001b[0m\n\u001b[0;32m   1563\u001b[0m             raise urllib.error.URLError(\n",
      "\u001b[1;32mF:\\Anaconda\\lib\\site-packages\\astropy\\utils\\data.py\u001b[0m in \u001b[0;36mdownload_file\u001b[1;34m(remote_url, cache, show_progress, timeout, sources, pkgname, http_headers, ssl_context, allow_insecure)\u001b[0m\n\u001b[0;32m   1527\u001b[0m     \u001b[1;32mfor\u001b[0m \u001b[0msource_url\u001b[0m \u001b[1;32min\u001b[0m \u001b[0msources\u001b[0m\u001b[1;33m:\u001b[0m\u001b[1;33m\u001b[0m\u001b[1;33m\u001b[0m\u001b[0m\n\u001b[0;32m   1528\u001b[0m         \u001b[1;32mtry\u001b[0m\u001b[1;33m:\u001b[0m\u001b[1;33m\u001b[0m\u001b[1;33m\u001b[0m\u001b[0m\n\u001b[1;32m-> 1529\u001b[1;33m             f_name = _download_file_from_source(\n\u001b[0m\u001b[0;32m   1530\u001b[0m                 \u001b[0msource_url\u001b[0m\u001b[1;33m,\u001b[0m\u001b[1;33m\u001b[0m\u001b[1;33m\u001b[0m\u001b[0m\n\u001b[0;32m   1531\u001b[0m                 \u001b[0mtimeout\u001b[0m\u001b[1;33m=\u001b[0m\u001b[0mtimeout\u001b[0m\u001b[1;33m,\u001b[0m\u001b[1;33m\u001b[0m\u001b[1;33m\u001b[0m\u001b[0m\n",
      "\u001b[1;32mF:\\Anaconda\\lib\\site-packages\\astropy\\utils\\data.py\u001b[0m in \u001b[0;36m_download_file_from_source\u001b[1;34m(source_url, show_progress, timeout, remote_url, cache, pkgname, http_headers, ftp_tls, ssl_context, allow_insecure)\u001b[0m\n\u001b[0;32m   1311\u001b[0m                 \u001b[1;32mraise\u001b[0m\u001b[1;33m\u001b[0m\u001b[1;33m\u001b[0m\u001b[0m\n\u001b[0;32m   1312\u001b[0m \u001b[1;33m\u001b[0m\u001b[0m\n\u001b[1;32m-> 1313\u001b[1;33m     with _try_url_open(\n\u001b[0m\u001b[0;32m   1314\u001b[0m         \u001b[0msource_url\u001b[0m\u001b[1;33m,\u001b[0m\u001b[1;33m\u001b[0m\u001b[1;33m\u001b[0m\u001b[0m\n\u001b[0;32m   1315\u001b[0m         \u001b[0mtimeout\u001b[0m\u001b[1;33m=\u001b[0m\u001b[0mtimeout\u001b[0m\u001b[1;33m,\u001b[0m\u001b[1;33m\u001b[0m\u001b[1;33m\u001b[0m\u001b[0m\n",
      "\u001b[1;32mF:\\Anaconda\\lib\\site-packages\\astropy\\utils\\data.py\u001b[0m in \u001b[0;36m_try_url_open\u001b[1;34m(source_url, timeout, http_headers, ftp_tls, ssl_context, allow_insecure)\u001b[0m\n\u001b[0;32m   1225\u001b[0m \u001b[1;33m\u001b[0m\u001b[0m\n\u001b[0;32m   1226\u001b[0m     \u001b[1;32mtry\u001b[0m\u001b[1;33m:\u001b[0m\u001b[1;33m\u001b[0m\u001b[1;33m\u001b[0m\u001b[0m\n\u001b[1;32m-> 1227\u001b[1;33m         \u001b[1;32mreturn\u001b[0m \u001b[0murlopener\u001b[0m\u001b[1;33m.\u001b[0m\u001b[0mopen\u001b[0m\u001b[1;33m(\u001b[0m\u001b[0mreq\u001b[0m\u001b[1;33m,\u001b[0m \u001b[0mtimeout\u001b[0m\u001b[1;33m=\u001b[0m\u001b[0mtimeout\u001b[0m\u001b[1;33m)\u001b[0m\u001b[1;33m\u001b[0m\u001b[1;33m\u001b[0m\u001b[0m\n\u001b[0m\u001b[0;32m   1228\u001b[0m     \u001b[1;32mexcept\u001b[0m \u001b[0murllib\u001b[0m\u001b[1;33m.\u001b[0m\u001b[0merror\u001b[0m\u001b[1;33m.\u001b[0m\u001b[0mURLError\u001b[0m \u001b[1;32mas\u001b[0m \u001b[0mexc\u001b[0m\u001b[1;33m:\u001b[0m\u001b[1;33m\u001b[0m\u001b[1;33m\u001b[0m\u001b[0m\n\u001b[0;32m   1229\u001b[0m         \u001b[0mreason\u001b[0m \u001b[1;33m=\u001b[0m \u001b[0mexc\u001b[0m\u001b[1;33m.\u001b[0m\u001b[0mreason\u001b[0m\u001b[1;33m\u001b[0m\u001b[1;33m\u001b[0m\u001b[0m\n",
      "\u001b[1;32mF:\\Anaconda\\lib\\urllib\\request.py\u001b[0m in \u001b[0;36mopen\u001b[1;34m(self, fullurl, data, timeout)\u001b[0m\n\u001b[0;32m    521\u001b[0m         \u001b[1;32mfor\u001b[0m \u001b[0mprocessor\u001b[0m \u001b[1;32min\u001b[0m \u001b[0mself\u001b[0m\u001b[1;33m.\u001b[0m\u001b[0mprocess_response\u001b[0m\u001b[1;33m.\u001b[0m\u001b[0mget\u001b[0m\u001b[1;33m(\u001b[0m\u001b[0mprotocol\u001b[0m\u001b[1;33m,\u001b[0m \u001b[1;33m[\u001b[0m\u001b[1;33m]\u001b[0m\u001b[1;33m)\u001b[0m\u001b[1;33m:\u001b[0m\u001b[1;33m\u001b[0m\u001b[1;33m\u001b[0m\u001b[0m\n\u001b[0;32m    522\u001b[0m             \u001b[0mmeth\u001b[0m \u001b[1;33m=\u001b[0m \u001b[0mgetattr\u001b[0m\u001b[1;33m(\u001b[0m\u001b[0mprocessor\u001b[0m\u001b[1;33m,\u001b[0m \u001b[0mmeth_name\u001b[0m\u001b[1;33m)\u001b[0m\u001b[1;33m\u001b[0m\u001b[1;33m\u001b[0m\u001b[0m\n\u001b[1;32m--> 523\u001b[1;33m             \u001b[0mresponse\u001b[0m \u001b[1;33m=\u001b[0m \u001b[0mmeth\u001b[0m\u001b[1;33m(\u001b[0m\u001b[0mreq\u001b[0m\u001b[1;33m,\u001b[0m \u001b[0mresponse\u001b[0m\u001b[1;33m)\u001b[0m\u001b[1;33m\u001b[0m\u001b[1;33m\u001b[0m\u001b[0m\n\u001b[0m\u001b[0;32m    524\u001b[0m \u001b[1;33m\u001b[0m\u001b[0m\n\u001b[0;32m    525\u001b[0m         \u001b[1;32mreturn\u001b[0m \u001b[0mresponse\u001b[0m\u001b[1;33m\u001b[0m\u001b[1;33m\u001b[0m\u001b[0m\n",
      "\u001b[1;32mF:\\Anaconda\\lib\\urllib\\request.py\u001b[0m in \u001b[0;36mhttp_response\u001b[1;34m(self, request, response)\u001b[0m\n\u001b[0;32m    630\u001b[0m         \u001b[1;31m# request was successfully received, understood, and accepted.\u001b[0m\u001b[1;33m\u001b[0m\u001b[1;33m\u001b[0m\u001b[0m\n\u001b[0;32m    631\u001b[0m         \u001b[1;32mif\u001b[0m \u001b[1;32mnot\u001b[0m \u001b[1;33m(\u001b[0m\u001b[1;36m200\u001b[0m \u001b[1;33m<=\u001b[0m \u001b[0mcode\u001b[0m \u001b[1;33m<\u001b[0m \u001b[1;36m300\u001b[0m\u001b[1;33m)\u001b[0m\u001b[1;33m:\u001b[0m\u001b[1;33m\u001b[0m\u001b[1;33m\u001b[0m\u001b[0m\n\u001b[1;32m--> 632\u001b[1;33m             response = self.parent.error(\n\u001b[0m\u001b[0;32m    633\u001b[0m                 'http', request, response, code, msg, hdrs)\n\u001b[0;32m    634\u001b[0m \u001b[1;33m\u001b[0m\u001b[0m\n",
      "\u001b[1;32mF:\\Anaconda\\lib\\urllib\\request.py\u001b[0m in \u001b[0;36merror\u001b[1;34m(self, proto, *args)\u001b[0m\n\u001b[0;32m    559\u001b[0m         \u001b[1;32mif\u001b[0m \u001b[0mhttp_err\u001b[0m\u001b[1;33m:\u001b[0m\u001b[1;33m\u001b[0m\u001b[1;33m\u001b[0m\u001b[0m\n\u001b[0;32m    560\u001b[0m             \u001b[0margs\u001b[0m \u001b[1;33m=\u001b[0m \u001b[1;33m(\u001b[0m\u001b[0mdict\u001b[0m\u001b[1;33m,\u001b[0m \u001b[1;34m'default'\u001b[0m\u001b[1;33m,\u001b[0m \u001b[1;34m'http_error_default'\u001b[0m\u001b[1;33m)\u001b[0m \u001b[1;33m+\u001b[0m \u001b[0morig_args\u001b[0m\u001b[1;33m\u001b[0m\u001b[1;33m\u001b[0m\u001b[0m\n\u001b[1;32m--> 561\u001b[1;33m             \u001b[1;32mreturn\u001b[0m \u001b[0mself\u001b[0m\u001b[1;33m.\u001b[0m\u001b[0m_call_chain\u001b[0m\u001b[1;33m(\u001b[0m\u001b[1;33m*\u001b[0m\u001b[0margs\u001b[0m\u001b[1;33m)\u001b[0m\u001b[1;33m\u001b[0m\u001b[1;33m\u001b[0m\u001b[0m\n\u001b[0m\u001b[0;32m    562\u001b[0m \u001b[1;33m\u001b[0m\u001b[0m\n\u001b[0;32m    563\u001b[0m \u001b[1;31m# XXX probably also want an abstract factory that knows when it makes\u001b[0m\u001b[1;33m\u001b[0m\u001b[1;33m\u001b[0m\u001b[0m\n",
      "\u001b[1;32mF:\\Anaconda\\lib\\urllib\\request.py\u001b[0m in \u001b[0;36m_call_chain\u001b[1;34m(self, chain, kind, meth_name, *args)\u001b[0m\n\u001b[0;32m    492\u001b[0m         \u001b[1;32mfor\u001b[0m \u001b[0mhandler\u001b[0m \u001b[1;32min\u001b[0m \u001b[0mhandlers\u001b[0m\u001b[1;33m:\u001b[0m\u001b[1;33m\u001b[0m\u001b[1;33m\u001b[0m\u001b[0m\n\u001b[0;32m    493\u001b[0m             \u001b[0mfunc\u001b[0m \u001b[1;33m=\u001b[0m \u001b[0mgetattr\u001b[0m\u001b[1;33m(\u001b[0m\u001b[0mhandler\u001b[0m\u001b[1;33m,\u001b[0m \u001b[0mmeth_name\u001b[0m\u001b[1;33m)\u001b[0m\u001b[1;33m\u001b[0m\u001b[1;33m\u001b[0m\u001b[0m\n\u001b[1;32m--> 494\u001b[1;33m             \u001b[0mresult\u001b[0m \u001b[1;33m=\u001b[0m \u001b[0mfunc\u001b[0m\u001b[1;33m(\u001b[0m\u001b[1;33m*\u001b[0m\u001b[0margs\u001b[0m\u001b[1;33m)\u001b[0m\u001b[1;33m\u001b[0m\u001b[1;33m\u001b[0m\u001b[0m\n\u001b[0m\u001b[0;32m    495\u001b[0m             \u001b[1;32mif\u001b[0m \u001b[0mresult\u001b[0m \u001b[1;32mis\u001b[0m \u001b[1;32mnot\u001b[0m \u001b[1;32mNone\u001b[0m\u001b[1;33m:\u001b[0m\u001b[1;33m\u001b[0m\u001b[1;33m\u001b[0m\u001b[0m\n\u001b[0;32m    496\u001b[0m                 \u001b[1;32mreturn\u001b[0m \u001b[0mresult\u001b[0m\u001b[1;33m\u001b[0m\u001b[1;33m\u001b[0m\u001b[0m\n",
      "\u001b[1;32mF:\\Anaconda\\lib\\urllib\\request.py\u001b[0m in \u001b[0;36mhttp_error_default\u001b[1;34m(self, req, fp, code, msg, hdrs)\u001b[0m\n\u001b[0;32m    639\u001b[0m \u001b[1;32mclass\u001b[0m \u001b[0mHTTPDefaultErrorHandler\u001b[0m\u001b[1;33m(\u001b[0m\u001b[0mBaseHandler\u001b[0m\u001b[1;33m)\u001b[0m\u001b[1;33m:\u001b[0m\u001b[1;33m\u001b[0m\u001b[1;33m\u001b[0m\u001b[0m\n\u001b[0;32m    640\u001b[0m     \u001b[1;32mdef\u001b[0m \u001b[0mhttp_error_default\u001b[0m\u001b[1;33m(\u001b[0m\u001b[0mself\u001b[0m\u001b[1;33m,\u001b[0m \u001b[0mreq\u001b[0m\u001b[1;33m,\u001b[0m \u001b[0mfp\u001b[0m\u001b[1;33m,\u001b[0m \u001b[0mcode\u001b[0m\u001b[1;33m,\u001b[0m \u001b[0mmsg\u001b[0m\u001b[1;33m,\u001b[0m \u001b[0mhdrs\u001b[0m\u001b[1;33m)\u001b[0m\u001b[1;33m:\u001b[0m\u001b[1;33m\u001b[0m\u001b[1;33m\u001b[0m\u001b[0m\n\u001b[1;32m--> 641\u001b[1;33m         \u001b[1;32mraise\u001b[0m \u001b[0mHTTPError\u001b[0m\u001b[1;33m(\u001b[0m\u001b[0mreq\u001b[0m\u001b[1;33m.\u001b[0m\u001b[0mfull_url\u001b[0m\u001b[1;33m,\u001b[0m \u001b[0mcode\u001b[0m\u001b[1;33m,\u001b[0m \u001b[0mmsg\u001b[0m\u001b[1;33m,\u001b[0m \u001b[0mhdrs\u001b[0m\u001b[1;33m,\u001b[0m \u001b[0mfp\u001b[0m\u001b[1;33m)\u001b[0m\u001b[1;33m\u001b[0m\u001b[1;33m\u001b[0m\u001b[0m\n\u001b[0m\u001b[0;32m    642\u001b[0m \u001b[1;33m\u001b[0m\u001b[0m\n\u001b[0;32m    643\u001b[0m \u001b[1;32mclass\u001b[0m \u001b[0mHTTPRedirectHandler\u001b[0m\u001b[1;33m(\u001b[0m\u001b[0mBaseHandler\u001b[0m\u001b[1;33m)\u001b[0m\u001b[1;33m:\u001b[0m\u001b[1;33m\u001b[0m\u001b[1;33m\u001b[0m\u001b[0m\n",
      "\u001b[1;31mHTTPError\u001b[0m: HTTP Error 404: Not Found"
     ]
    }
   ],
   "source": [
    "# Taking SDSSg image from SkyView\n",
    "SDSSg_hdu = SkyView.get_images(\"M31\", \"SDSSg\")[0][0]"
   ]
  },
  {
   "cell_type": "code",
   "execution_count": null,
   "id": "cfc56d00",
   "metadata": {},
   "outputs": [],
   "source": [
    "# Storing Data\n",
    "M31_Pixels = SDSSg_hdu.data"
   ]
  },
  {
   "cell_type": "code",
   "execution_count": null,
   "id": "455bf44f",
   "metadata": {},
   "outputs": [],
   "source": [
    "# Visualizing\n",
    "plt.imshow(M31_Pixels, cmap='gray', origin='lower')\n",
    "plt.show()"
   ]
  },
  {
   "cell_type": "code",
   "execution_count": null,
   "id": "71ceda13",
   "metadata": {},
   "outputs": [],
   "source": [
    "# Checking basic stats\n",
    "print(\"Summary Statistics of M31_Pixels\")\n",
    "print(f\"Minimum Value : {np.min(M31_Pixels)}\")\n",
    "print(f\"Maximum Value : {np.max(M31_Pixels)}\")\n",
    "print(f\"Mean Value : {np.mean(M31_Pixels)}\")\n",
    "print(f\"Spread : {np.std(M31_Pixels)}\")"
   ]
  },
  {
   "cell_type": "code",
   "execution_count": null,
   "id": "32642a5b",
   "metadata": {},
   "outputs": [],
   "source": [
    "# Creating a Histogram\n",
    "plt.hist(M31_Pixels.flat, bins = 500) # .flat converts it into 1D image\n",
    "plt.show()"
   ]
  },
  {
   "cell_type": "code",
   "execution_count": null,
   "id": "56338b96",
   "metadata": {},
   "outputs": [],
   "source": [
    "# Creating a Visualizing function\n",
    "\n",
    "def pixel_plot(pixel_array, title, color):\n",
    "  plt.imshow(pixel_array, cmap='gray', origin='lower')\n",
    "  plt.title(title, color=color, weight='bold')\n",
    "  plt.axis('off')"
   ]
  },
  {
   "cell_type": "code",
   "execution_count": null,
   "id": "03916cc0",
   "metadata": {},
   "outputs": [],
   "source": [
    "# Creating a Compare function\n",
    "\n",
    "def compare_plots(scaled_array, title):\n",
    "  plt.subplot(1, 2, 1)\n",
    "  pixel_plot(M31_Pixels, title='Original Image', color='black')\n",
    "\n",
    "  plt.subplot(1, 2, 2)\n",
    "  pixel_plot(scaled_array, title=title, color='lime')\n",
    "\n",
    "  plt.show()"
   ]
  },
  {
   "cell_type": "code",
   "execution_count": null,
   "id": "d36b0fa4",
   "metadata": {},
   "outputs": [],
   "source": [
    "# Creating a MinMax Scaling function\n",
    "\n",
    "def minmax_scale(pixel_array):\n",
    "  nume = pixel_array - np.min(pixel_array)\n",
    "  deno = np.max(pixel_array) - np.min(pixel_array)\n",
    "\n",
    "    # Check if deno is zero to avoid division by zero\n",
    "  if deno == 0:\n",
    "    return np.zeros_like(pixel_array)\n",
    "\n",
    "  return nume / deno"
   ]
  },
  {
   "cell_type": "code",
   "execution_count": null,
   "id": "b3659b1b",
   "metadata": {},
   "outputs": [],
   "source": [
    "# Normalizing M31_SDSSg_Pixels using MinMax Scaling\n",
    "\n",
    "M31_Pixels_minmaxscaled = minmax_scale(M31_Pixels)\n",
    "compare_plots(M31_Pixels_minmaxscaled, title='MinMax Scaled Image')"
   ]
  },
  {
   "cell_type": "code",
   "execution_count": null,
   "id": "0470d944",
   "metadata": {},
   "outputs": [],
   "source": [
    "# Standardization or Z-Scale function:\n",
    "\n",
    "def zscale(pixel_array):\n",
    "  nume = pixel_array - np.mean(pixel_array)\n",
    "  deno = np.std(pixel_array)\n",
    "  return nume/deno"
   ]
  },
  {
   "cell_type": "code",
   "execution_count": null,
   "id": "2c2b1198",
   "metadata": {},
   "outputs": [],
   "source": [
    "# Normalizing M31_SDSSg_Pixels using Z Scaling\n",
    "\n",
    "M31_Pixels_zscaled = zscale(M31_Pixels)\n",
    "compare_plots(M31_Pixels_zscaled, title='Z Scaled')"
   ]
  },
  {
   "cell_type": "code",
   "execution_count": null,
   "id": "2637a8c7",
   "metadata": {},
   "outputs": [],
   "source": [
    "# Creating a Logarithmic Scaling Function:\n",
    "\n",
    "def loga(pixel_array):\n",
    "  return np.log(pixel_array)"
   ]
  },
  {
   "cell_type": "code",
   "execution_count": null,
   "id": "db45e115",
   "metadata": {},
   "outputs": [],
   "source": [
    "# Normalizing M31_SDSSg_Pixels using Logarithmic Function:\n",
    "\n",
    "M31_Pixels_logscaled = loga(M31_Pixels)\n",
    "compare_plots(M31_Pixels_logscaled, title='Log Scaled Image')"
   ]
  },
  {
   "cell_type": "code",
   "execution_count": null,
   "id": "efd86306",
   "metadata": {},
   "outputs": [],
   "source": [
    "# Creating a Histogram with the Log scaled Pixels:\n",
    "\n",
    "plt.hist(M31_Pixels_logscaled.flat, bins = 300)\n",
    "plt.show()"
   ]
  },
  {
   "cell_type": "code",
   "execution_count": null,
   "id": "4230c4ef",
   "metadata": {},
   "outputs": [],
   "source": [
    "# Creating a Square Root Scaling Function:\n",
    "\n",
    "def sqrt_scaling(pixel_array):\n",
    "  return np.sqrt(pixel_array)"
   ]
  },
  {
   "cell_type": "code",
   "execution_count": null,
   "id": "65f32efd",
   "metadata": {},
   "outputs": [],
   "source": [
    "# Normalizing M31_SDSSg_Pixels using Square Root Scaling:\n",
    "\n",
    "M31_Pixels_sqrtscaled = sqrt_scaling(M31_Pixels)\n",
    "compare_plots(M31_Pixels_sqrtscaled, title='Square Root Scaled Image')"
   ]
  },
  {
   "cell_type": "markdown",
   "id": "e5a56062",
   "metadata": {},
   "source": [
    "### ***Z Scale Interval***"
   ]
  },
  {
   "cell_type": "code",
   "execution_count": null,
   "id": "a1e386a0",
   "metadata": {},
   "outputs": [],
   "source": [
    "# Importing libraries\n",
    "\n",
    "from astropy.visualization import ZScaleInterval"
   ]
  },
  {
   "cell_type": "code",
   "execution_count": null,
   "id": "93c22acc",
   "metadata": {},
   "outputs": [],
   "source": [
    "# Creating an object\n",
    "\n",
    "zsi = ZScaleInterval()"
   ]
  },
  {
   "cell_type": "code",
   "execution_count": null,
   "id": "b96fdd1c",
   "metadata": {},
   "outputs": [],
   "source": [
    "# Getting Min and Max of M31_Pixels_logscaled\n",
    "\n",
    "zsi_min, zsi_max = zsi.get_limits(M31_Pixels_logscaled)"
   ]
  },
  {
   "cell_type": "code",
   "execution_count": null,
   "id": "a6807b2d",
   "metadata": {},
   "outputs": [],
   "source": [
    "print(f'Minimum = {zsi_min}')\n",
    "print(f'Maximum = {zsi_max}')"
   ]
  },
  {
   "cell_type": "code",
   "execution_count": null,
   "id": "cd2198e8",
   "metadata": {},
   "outputs": [],
   "source": [
    "# Plotting the M31_Pixels_logscaled using the Interval\n",
    "\n",
    "img = plt.imshow(M31_Pixels_logscaled, vmin = zsi_min, vmax = zsi_max, cmap = 'gray', origin = 'lower')\n",
    "plt.show()"
   ]
  },
  {
   "cell_type": "code",
   "execution_count": null,
   "id": "1bb1929e",
   "metadata": {},
   "outputs": [],
   "source": [
    "# Getting the array from the above image and saving it\n",
    "\n",
    "zsi_image_array = img.make_image(renderer=None, unsampled = True)[0] #unsampled keeps the original array shape"
   ]
  },
  {
   "cell_type": "code",
   "execution_count": null,
   "id": "f0a36a71",
   "metadata": {},
   "outputs": [],
   "source": [
    "# Getting the shape:\n",
    "\n",
    "zsi_image_array.shape"
   ]
  },
  {
   "cell_type": "code",
   "execution_count": null,
   "id": "e8f71504",
   "metadata": {},
   "outputs": [],
   "source": [
    "import cv2"
   ]
  },
  {
   "cell_type": "code",
   "execution_count": null,
   "id": "e5f0368c",
   "metadata": {},
   "outputs": [],
   "source": [
    "# Converting 4 channel to grayscale\n",
    "\n",
    "zsi_image_array_gray = cv2.cvtColor(zsi_image_array, cv2.COLOR_BGRA2GRAY)"
   ]
  },
  {
   "cell_type": "code",
   "execution_count": null,
   "id": "c90c03d3",
   "metadata": {},
   "outputs": [],
   "source": [
    "# Visualizing\n",
    "\n",
    "pixel_plot(zsi_image_array_gray, title='Gray ZScaleInterval Image', color ='lime')"
   ]
  },
  {
   "cell_type": "code",
   "execution_count": null,
   "id": "40d2595b",
   "metadata": {},
   "outputs": [],
   "source": [
    "# Histogram\n",
    "\n",
    "plt.hist(zsi_image_array_gray.flat, bins = 300)\n",
    "plt.show()"
   ]
  },
  {
   "cell_type": "markdown",
   "id": "7537344b",
   "metadata": {},
   "source": [
    "### **Gaussian De-Noising**"
   ]
  },
  {
   "cell_type": "code",
   "execution_count": null,
   "id": "9fa4b971",
   "metadata": {},
   "outputs": [],
   "source": [
    "# Creating a Kernel\n",
    "from scipy.signal import convolve2d"
   ]
  },
  {
   "cell_type": "code",
   "execution_count": null,
   "id": "075a7df2",
   "metadata": {},
   "outputs": [],
   "source": [
    "kernel = np.ones((3,3))/9\n",
    "kernel"
   ]
  },
  {
   "cell_type": "code",
   "execution_count": null,
   "id": "c5666c73",
   "metadata": {},
   "outputs": [],
   "source": [
    "Gaussian_Kernel = np.array([[1/16, 1/8, 1/16],\n",
    "                            [1/8, 1/4, 1/8],\n",
    "                            [1/16, 1/8, 1/16]])\n",
    "Gaussian_Kernel"
   ]
  },
  {
   "cell_type": "code",
   "execution_count": null,
   "id": "57200eb7",
   "metadata": {},
   "outputs": [],
   "source": [
    "# Convolution using the normal Kernel\n",
    "convolved_image_normal = convolve2d(M31_Pixels, kernel, mode = 'same') # mode keeps the size of output image same as the original"
   ]
  },
  {
   "cell_type": "code",
   "execution_count": null,
   "id": "142fa022",
   "metadata": {},
   "outputs": [],
   "source": [
    "# Convolution using the Gaussian Kernel\n",
    "convolved_image_gaussian = convolve2d(M31_Pixels, Gaussian_Kernel, mode = 'same')"
   ]
  },
  {
   "cell_type": "code",
   "execution_count": null,
   "id": "de91d1b1",
   "metadata": {},
   "outputs": [],
   "source": [
    "# Visualizing the convolved_image_normal\n",
    "pixel_plot(convolved_image_normal, title = 'Normal Kernel Convolution', color = 'lime')"
   ]
  },
  {
   "cell_type": "code",
   "execution_count": null,
   "id": "f5cff05a",
   "metadata": {},
   "outputs": [],
   "source": [
    "# Visualizing the convolved_image_gaussian\n",
    "pixel_plot(convolved_image_gaussian, title = 'Gaussian Kernel Convolution', color = 'lime')"
   ]
  },
  {
   "cell_type": "code",
   "execution_count": null,
   "id": "6de3f44e",
   "metadata": {},
   "outputs": [],
   "source": [
    "# Using zsi_image_array_gray with Gaussian Kernel\n",
    "\n",
    "convolved_image_gaussian_zsi = convolve2d(zsi_image_array_gray, Gaussian_Kernel, mode = 'same')"
   ]
  },
  {
   "cell_type": "code",
   "execution_count": null,
   "id": "79452b21",
   "metadata": {},
   "outputs": [],
   "source": [
    "# Visualizing\n",
    "pixel_plot(convolved_image_gaussian_zsi, title = 'Gaussian Kernel Convolution with ZSI Image', color = 'lime')"
   ]
  },
  {
   "cell_type": "code",
   "execution_count": null,
   "id": "76dce35c",
   "metadata": {},
   "outputs": [],
   "source": [
    "# Getting Histogram\n",
    "plt.hist(convolved_image_gaussian_zsi.flat, bins=300)\n",
    "plt.show()"
   ]
  },
  {
   "cell_type": "markdown",
   "id": "950e8a15",
   "metadata": {},
   "source": [
    "### **Enhancing the Linear Features**"
   ]
  },
  {
   "cell_type": "code",
   "execution_count": null,
   "id": "55e3d3f3",
   "metadata": {},
   "outputs": [],
   "source": [
    "# Creating a Spectral List\n",
    "Spectral_list = ['gray', 'jet', 'hot', 'prism', 'nipy_spectral']"
   ]
  },
  {
   "cell_type": "code",
   "execution_count": null,
   "id": "e4d3dd6e",
   "metadata": {},
   "outputs": [],
   "source": [
    "# Importing meijering and sato filters from skimage\n",
    "from skimage.filters import meijering, sato"
   ]
  },
  {
   "cell_type": "code",
   "execution_count": null,
   "id": "8b80c1af",
   "metadata": {},
   "outputs": [],
   "source": [
    "# Using the filters\n",
    "meijering_output = meijering(convolved_image_gaussian_zsi)\n",
    "sato_output = sato(convolved_image_gaussian_zsi)"
   ]
  },
  {
   "cell_type": "code",
   "execution_count": null,
   "id": "908c9c19",
   "metadata": {},
   "outputs": [],
   "source": [
    "# For each Spectral list element, visualizing the output for the meijering filter:\n",
    "for cm in Spectral_list:\n",
    "  plt.imshow(meijering_output, cmap = cm, origin = 'lower')\n",
    "  plt.title(f'Meijering Output with {cm}')\n",
    "  plt.axis('off')\n",
    "  plt.show()"
   ]
  },
  {
   "cell_type": "code",
   "execution_count": null,
   "id": "9e346941",
   "metadata": {},
   "outputs": [],
   "source": [
    "# For each Spectral list element, visualizing the output for the sato filter:\n",
    "for cm in Spectral_list:\n",
    "  plt.imshow(sato_output, cmap = cm, origin = 'lower')\n",
    "  plt.title(f'Sato Output with {cm}')\n",
    "  plt.axis('off')\n",
    "  plt.show()"
   ]
  },
  {
   "cell_type": "markdown",
   "id": "ef753b9a",
   "metadata": {},
   "source": [
    "### **Feature Detection and Extraction**"
   ]
  },
  {
   "cell_type": "code",
   "execution_count": null,
   "id": "eb31b184",
   "metadata": {},
   "outputs": [],
   "source": [
    "# Corner_Foerstner\n",
    "from skimage.feature import corner_foerstner"
   ]
  },
  {
   "cell_type": "code",
   "execution_count": null,
   "id": "e93267d1",
   "metadata": {},
   "outputs": [],
   "source": [
    "feature_output = corner_foerstner(convolved_image_gaussian_zsi)"
   ]
  },
  {
   "cell_type": "code",
   "execution_count": null,
   "id": "09c4db3f",
   "metadata": {},
   "outputs": [],
   "source": [
    "print('Length :', len(feature_output))\n",
    "print('Type :', type(feature_output))"
   ]
  },
  {
   "cell_type": "code",
   "execution_count": null,
   "id": "b74c77e5",
   "metadata": {},
   "outputs": [],
   "source": [
    "# Visualizing\n",
    "for cm in Spectral_list:\n",
    "  plt.subplot(1, 2, 1)\n",
    "  plt.imshow(feature_output[0], cmap = cm, origin = 'lower')\n",
    "  plt.title(f'Error Image with {cm}')\n",
    "  plt.axis('off')\n",
    "\n",
    "  plt.subplot(1, 2, 2)\n",
    "  plt.imshow(feature_output[1], cmap = cm, origin = 'lower')\n",
    "  plt.title(f'Roundness of error with {cm}')\n",
    "  plt.axis('off')\n",
    "\n",
    "  plt.tight_layout()\n",
    "  plt.show()"
   ]
  },
  {
   "cell_type": "markdown",
   "id": "b7e2cf01",
   "metadata": {},
   "source": [
    "### **MultiScale_Basic_Features**"
   ]
  },
  {
   "cell_type": "code",
   "execution_count": null,
   "id": "2b04acd2",
   "metadata": {},
   "outputs": [],
   "source": [
    "from skimage.feature import multiscale_basic_features"
   ]
  },
  {
   "cell_type": "code",
   "execution_count": null,
   "id": "d22f6c4f",
   "metadata": {},
   "outputs": [],
   "source": [
    "feature_image = multiscale_basic_features(convolved_image_gaussian_zsi)"
   ]
  },
  {
   "cell_type": "code",
   "execution_count": null,
   "id": "0691617d",
   "metadata": {},
   "outputs": [],
   "source": [
    "type(feature_image)"
   ]
  },
  {
   "cell_type": "code",
   "execution_count": null,
   "id": "3edd7264",
   "metadata": {},
   "outputs": [],
   "source": [
    "feature_image.shape"
   ]
  },
  {
   "cell_type": "code",
   "execution_count": null,
   "id": "168cceaa",
   "metadata": {},
   "outputs": [],
   "source": [
    "# Splitting and storing all 24 channels\n",
    "P1,P2,P3,P4,P5,P6,P7,P8,P9,P10,P11,P12,P13,P14,P15,P16,P17,P18,P19,P20,P21,P22,P23,P24 = cv2.split(feature_image)"
   ]
  },
  {
   "cell_type": "code",
   "execution_count": null,
   "id": "eebe63a7",
   "metadata": {},
   "outputs": [],
   "source": [
    "P1.shape"
   ]
  },
  {
   "cell_type": "code",
   "execution_count": null,
   "id": "f60c2f00",
   "metadata": {},
   "outputs": [],
   "source": [
    "P24.shape"
   ]
  },
  {
   "cell_type": "code",
   "execution_count": null,
   "id": "1ae9c49c",
   "metadata": {},
   "outputs": [],
   "source": [
    "# Creating a list of these pixels\n",
    "Pixels = [P1,P2,P3,P4,P5,P6,P7,P8,P9,P10,P11,P12,P13,P14,P15,P16,P17,P18,P19,P20,P21,P22,P23,P24]"
   ]
  },
  {
   "cell_type": "code",
   "execution_count": null,
   "id": "c9a6ae07",
   "metadata": {},
   "outputs": [],
   "source": [
    "# Visualizing all in prism\n",
    "for i, feature in enumerate(Pixels):\n",
    "  plt.imshow(feature, cmap = 'prism', origin = 'lower')\n",
    "  plt.title(f'Feature {i+1}')\n",
    "  plt.axis('off')\n",
    "  plt.show()"
   ]
  },
  {
   "cell_type": "code",
   "execution_count": 13,
   "id": "4fc1809e",
   "metadata": {},
   "outputs": [
    {
     "ename": "SyntaxError",
     "evalue": "invalid syntax (Temp/ipykernel_7680/2830201818.py, line 1)",
     "output_type": "error",
     "traceback": [
      "\u001b[1;36m  File \u001b[1;32m\"C:\\Users\\RR4C19~1\\AppData\\Local\\Temp/ipykernel_7680/2830201818.py\"\u001b[1;36m, line \u001b[1;32m1\u001b[0m\n\u001b[1;33m    git init\u001b[0m\n\u001b[1;37m        ^\u001b[0m\n\u001b[1;31mSyntaxError\u001b[0m\u001b[1;31m:\u001b[0m invalid syntax\n"
     ]
    }
   ],
   "source": []
  },
  {
   "cell_type": "code",
   "execution_count": null,
   "id": "56ef75c4",
   "metadata": {},
   "outputs": [],
   "source": []
  }
 ],
 "metadata": {
  "kernelspec": {
   "display_name": "Python 3 (ipykernel)",
   "language": "python",
   "name": "python3"
  },
  "language_info": {
   "codemirror_mode": {
    "name": "ipython",
    "version": 3
   },
   "file_extension": ".py",
   "mimetype": "text/x-python",
   "name": "python",
   "nbconvert_exporter": "python",
   "pygments_lexer": "ipython3",
   "version": "3.9.7"
  }
 },
 "nbformat": 4,
 "nbformat_minor": 5
}
