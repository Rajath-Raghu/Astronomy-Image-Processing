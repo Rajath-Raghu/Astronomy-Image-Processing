{
 "cells": [
  {
   "cell_type": "code",
   "execution_count": null,
   "id": "d25100c1",
   "metadata": {},
   "outputs": [],
   "source": [
    "# Installing Astroquery\n",
    "!pip install astroquery"
   ]
  },
  {
   "cell_type": "code",
   "execution_count": null,
   "id": "831079c9",
   "metadata": {},
   "outputs": [],
   "source": [
    "# Importing Libraries\n",
    "import matplotlib.pyplot as plt\n",
    "import astropy.units as u\n",
    "import numpy as np\n",
    "from astroquery.skyview import SkyView"
   ]
  },
  {
   "cell_type": "code",
   "execution_count": null,
   "id": "2cc86221",
   "metadata": {},
   "outputs": [],
   "source": [
    "# Getting Andromeda data (M31) from SDSSg Survey\n",
    "primary_hdu = SkyView.get_images(\"M31\", \"DSS1 Blue\", pixels = 600, radius = 150 * u.arcmin)[0][0]"
   ]
  },
  {
   "cell_type": "code",
   "execution_count": null,
   "id": "323cf9e6",
   "metadata": {},
   "outputs": [],
   "source": [
    "# Getting the header data\n",
    "primary_hdu.header"
   ]
  },
  {
   "cell_type": "code",
   "execution_count": null,
   "id": "57602d59",
   "metadata": {},
   "outputs": [],
   "source": [
    "# Getting the image data and storing\n",
    "M31_DSS1Blue_Pixels = primary_hdu.data"
   ]
  },
  {
   "cell_type": "code",
   "execution_count": null,
   "id": "afc0d589",
   "metadata": {},
   "outputs": [],
   "source": [
    "# Getting the Shape\n",
    "M31_DSS1Blue_Pixels.shape"
   ]
  },
  {
   "cell_type": "code",
   "execution_count": null,
   "id": "90b2319d",
   "metadata": {},
   "outputs": [],
   "source": [
    "# Plotting the image\n",
    "plt.imshow(M31_DSS1Blue_Pixels, cmap= 'gray', origin = 'lower')"
   ]
  },
  {
   "cell_type": "markdown",
   "id": "40f2d388",
   "metadata": {},
   "source": [
    "### **Creating FITS File**"
   ]
  },
  {
   "cell_type": "code",
   "execution_count": null,
   "id": "25b682f3",
   "metadata": {},
   "outputs": [],
   "source": [
    "# Importing fits from io module of astropy\n",
    "from astropy.io import fits"
   ]
  },
  {
   "cell_type": "code",
   "execution_count": null,
   "id": "1d6b206a",
   "metadata": {},
   "outputs": [],
   "source": [
    "# Create HDUList() to store diff HDUs\n",
    "HDU_List = fits.HDUList()\n",
    "\n",
    "# Creating a Primay HDU\n",
    "hdu1 = fits.PrimaryHDU()\n",
    "\n",
    "# Adding Header data\n",
    "hdu1.header = primary_hdu.header\n",
    "\n",
    "# Adding Pixel Data\n",
    "hdu1.data = M31_DSS1Blue_Pixels\n",
    "\n",
    "# Appending Primary HDU to HDU List\n",
    "HDU_List.append(hdu1)\n",
    "\n",
    "# Generating the FITS file\n",
    "HDU_List.writeto(\"Dummy_FITS_file.fits\")"
   ]
  },
  {
   "cell_type": "markdown",
   "id": "cb5776f6",
   "metadata": {},
   "source": [
    "### **Pixel Scaling**"
   ]
  },
  {
   "cell_type": "code",
   "execution_count": null,
   "id": "095d972b",
   "metadata": {},
   "outputs": [],
   "source": [
    "# Taking SDSSg image from SkyView\n",
    "SDSSg_hdu = SkyView.get_images(\"M31\", \"SDSSg\")[0][0]"
   ]
  },
  {
   "cell_type": "code",
   "execution_count": null,
   "id": "cfc56d00",
   "metadata": {},
   "outputs": [],
   "source": [
    "# Storing Data\n",
    "M31_Pixels = SDSSg_hdu.data"
   ]
  },
  {
   "cell_type": "code",
   "execution_count": null,
   "id": "455bf44f",
   "metadata": {},
   "outputs": [],
   "source": [
    "# Visualizing\n",
    "plt.imshow(M31_Pixels, cmap='gray', origin='lower')\n",
    "plt.show()"
   ]
  },
  {
   "cell_type": "code",
   "execution_count": null,
   "id": "71ceda13",
   "metadata": {},
   "outputs": [],
   "source": [
    "# Checking basic stats\n",
    "print(\"Summary Statistics of M31_Pixels\")\n",
    "print(f\"Minimum Value : {np.min(M31_Pixels)}\")\n",
    "print(f\"Maximum Value : {np.max(M31_Pixels)}\")\n",
    "print(f\"Mean Value : {np.mean(M31_Pixels)}\")\n",
    "print(f\"Spread : {np.std(M31_Pixels)}\")"
   ]
  },
  {
   "cell_type": "code",
   "execution_count": null,
   "id": "32642a5b",
   "metadata": {},
   "outputs": [],
   "source": [
    "# Creating a Histogram\n",
    "plt.hist(M31_Pixels.flat, bins = 500) # .flat converts it into 1D image\n",
    "plt.show()"
   ]
  },
  {
   "cell_type": "code",
   "execution_count": null,
   "id": "56338b96",
   "metadata": {},
   "outputs": [],
   "source": [
    "# Creating a Visualizing function\n",
    "\n",
    "def pixel_plot(pixel_array, title, color):\n",
    "  plt.imshow(pixel_array, cmap='gray', origin='lower')\n",
    "  plt.title(title, color=color, weight='bold')\n",
    "  plt.axis('off')"
   ]
  },
  {
   "cell_type": "code",
   "execution_count": null,
   "id": "03916cc0",
   "metadata": {},
   "outputs": [],
   "source": [
    "# Creating a Compare function\n",
    "\n",
    "def compare_plots(scaled_array, title):\n",
    "  plt.subplot(1, 2, 1)\n",
    "  pixel_plot(M31_Pixels, title='Original Image', color='black')\n",
    "\n",
    "  plt.subplot(1, 2, 2)\n",
    "  pixel_plot(scaled_array, title=title, color='lime')\n",
    "\n",
    "  plt.show()"
   ]
  },
  {
   "cell_type": "code",
   "execution_count": null,
   "id": "d36b0fa4",
   "metadata": {},
   "outputs": [],
   "source": [
    "# Creating a MinMax Scaling function\n",
    "\n",
    "def minmax_scale(pixel_array):\n",
    "  nume = pixel_array - np.min(pixel_array)\n",
    "  deno = np.max(pixel_array) - np.min(pixel_array)\n",
    "\n",
    "    # Check if deno is zero to avoid division by zero\n",
    "  if deno == 0:\n",
    "    return np.zeros_like(pixel_array)\n",
    "\n",
    "  return nume / deno"
   ]
  },
  {
   "cell_type": "code",
   "execution_count": null,
   "id": "b3659b1b",
   "metadata": {},
   "outputs": [],
   "source": [
    "# Normalizing M31_SDSSg_Pixels using MinMax Scaling\n",
    "\n",
    "M31_Pixels_minmaxscaled = minmax_scale(M31_Pixels)\n",
    "compare_plots(M31_Pixels_minmaxscaled, title='MinMax Scaled Image')"
   ]
  },
  {
   "cell_type": "code",
   "execution_count": null,
   "id": "0470d944",
   "metadata": {},
   "outputs": [],
   "source": [
    "# Standardization or Z-Scale function:\n",
    "\n",
    "def zscale(pixel_array):\n",
    "  nume = pixel_array - np.mean(pixel_array)\n",
    "  deno = np.std(pixel_array)\n",
    "  return nume/deno"
   ]
  },
  {
   "cell_type": "code",
   "execution_count": null,
   "id": "2c2b1198",
   "metadata": {},
   "outputs": [],
   "source": [
    "# Normalizing M31_SDSSg_Pixels using Z Scaling\n",
    "\n",
    "M31_Pixels_zscaled = zscale(M31_Pixels)\n",
    "compare_plots(M31_Pixels_zscaled, title='Z Scaled')"
   ]
  },
  {
   "cell_type": "code",
   "execution_count": null,
   "id": "2637a8c7",
   "metadata": {},
   "outputs": [],
   "source": [
    "# Creating a Logarithmic Scaling Function:\n",
    "\n",
    "def loga(pixel_array):\n",
    "  return np.log(pixel_array)"
   ]
  },
  {
   "cell_type": "code",
   "execution_count": null,
   "id": "db45e115",
   "metadata": {},
   "outputs": [],
   "source": [
    "# Normalizing M31_SDSSg_Pixels using Logarithmic Function:\n",
    "\n",
    "M31_Pixels_logscaled = loga(M31_Pixels)\n",
    "compare_plots(M31_Pixels_logscaled, title='Log Scaled Image')"
   ]
  },
  {
   "cell_type": "code",
   "execution_count": null,
   "id": "efd86306",
   "metadata": {},
   "outputs": [],
   "source": [
    "# Creating a Histogram with the Log scaled Pixels:\n",
    "\n",
    "plt.hist(M31_Pixels_logscaled.flat, bins = 300)\n",
    "plt.show()"
   ]
  },
  {
   "cell_type": "code",
   "execution_count": null,
   "id": "4230c4ef",
   "metadata": {},
   "outputs": [],
   "source": [
    "# Creating a Square Root Scaling Function:\n",
    "\n",
    "def sqrt_scaling(pixel_array):\n",
    "  return np.sqrt(pixel_array)"
   ]
  },
  {
   "cell_type": "code",
   "execution_count": null,
   "id": "65f32efd",
   "metadata": {},
   "outputs": [],
   "source": [
    "# Normalizing M31_SDSSg_Pixels using Square Root Scaling:\n",
    "\n",
    "M31_Pixels_sqrtscaled = sqrt_scaling(M31_Pixels)\n",
    "compare_plots(M31_Pixels_sqrtscaled, title='Square Root Scaled Image')"
   ]
  },
  {
   "cell_type": "markdown",
   "id": "e5a56062",
   "metadata": {},
   "source": [
    "### ***Z Scale Interval***"
   ]
  },
  {
   "cell_type": "code",
   "execution_count": null,
   "id": "a1e386a0",
   "metadata": {},
   "outputs": [],
   "source": [
    "# Importing libraries\n",
    "\n",
    "from astropy.visualization import ZScaleInterval"
   ]
  },
  {
   "cell_type": "code",
   "execution_count": null,
   "id": "93c22acc",
   "metadata": {},
   "outputs": [],
   "source": [
    "# Creating an object\n",
    "\n",
    "zsi = ZScaleInterval()"
   ]
  },
  {
   "cell_type": "code",
   "execution_count": null,
   "id": "b96fdd1c",
   "metadata": {},
   "outputs": [],
   "source": [
    "# Getting Min and Max of M31_Pixels_logscaled\n",
    "\n",
    "zsi_min, zsi_max = zsi.get_limits(M31_Pixels_logscaled)"
   ]
  },
  {
   "cell_type": "code",
   "execution_count": null,
   "id": "a6807b2d",
   "metadata": {},
   "outputs": [],
   "source": [
    "print(f'Minimum = {zsi_min}')\n",
    "print(f'Maximum = {zsi_max}')"
   ]
  },
  {
   "cell_type": "code",
   "execution_count": null,
   "id": "cd2198e8",
   "metadata": {},
   "outputs": [],
   "source": [
    "# Plotting the M31_Pixels_logscaled using the Interval\n",
    "\n",
    "img = plt.imshow(M31_Pixels_logscaled, vmin = zsi_min, vmax = zsi_max, cmap = 'gray', origin = 'lower')\n",
    "plt.show()"
   ]
  },
  {
   "cell_type": "code",
   "execution_count": null,
   "id": "1bb1929e",
   "metadata": {},
   "outputs": [],
   "source": [
    "# Getting the array from the above image and saving it\n",
    "\n",
    "zsi_image_array = img.make_image(renderer=None, unsampled = True)[0] #unsampled keeps the original array shape"
   ]
  },
  {
   "cell_type": "code",
   "execution_count": null,
   "id": "f0a36a71",
   "metadata": {},
   "outputs": [],
   "source": [
    "# Getting the shape:\n",
    "\n",
    "zsi_image_array.shape"
   ]
  },
  {
   "cell_type": "code",
   "execution_count": null,
   "id": "e8f71504",
   "metadata": {},
   "outputs": [],
   "source": [
    "import cv2"
   ]
  },
  {
   "cell_type": "code",
   "execution_count": null,
   "id": "e5f0368c",
   "metadata": {},
   "outputs": [],
   "source": [
    "# Converting 4 channel to grayscale\n",
    "\n",
    "zsi_image_array_gray = cv2.cvtColor(zsi_image_array, cv2.COLOR_BGRA2GRAY)"
   ]
  },
  {
   "cell_type": "code",
   "execution_count": null,
   "id": "c90c03d3",
   "metadata": {},
   "outputs": [],
   "source": [
    "# Visualizing\n",
    "\n",
    "pixel_plot(zsi_image_array_gray, title='Gray ZScaleInterval Image', color ='lime')"
   ]
  },
  {
   "cell_type": "code",
   "execution_count": null,
   "id": "40d2595b",
   "metadata": {},
   "outputs": [],
   "source": [
    "# Histogram\n",
    "\n",
    "plt.hist(zsi_image_array_gray.flat, bins = 300)\n",
    "plt.show()"
   ]
  },
  {
   "cell_type": "markdown",
   "id": "7537344b",
   "metadata": {},
   "source": [
    "### **Gaussian De-Noising**"
   ]
  },
  {
   "cell_type": "code",
   "execution_count": null,
   "id": "9fa4b971",
   "metadata": {},
   "outputs": [],
   "source": [
    "# Creating a Kernel\n",
    "from scipy.signal import convolve2d"
   ]
  },
  {
   "cell_type": "code",
   "execution_count": null,
   "id": "075a7df2",
   "metadata": {},
   "outputs": [],
   "source": [
    "kernel = np.ones((3,3))/9\n",
    "kernel"
   ]
  },
  {
   "cell_type": "code",
   "execution_count": null,
   "id": "c5666c73",
   "metadata": {},
   "outputs": [],
   "source": [
    "Gaussian_Kernel = np.array([[1/16, 1/8, 1/16],\n",
    "                            [1/8, 1/4, 1/8],\n",
    "                            [1/16, 1/8, 1/16]])\n",
    "Gaussian_Kernel"
   ]
  },
  {
   "cell_type": "code",
   "execution_count": null,
   "id": "57200eb7",
   "metadata": {},
   "outputs": [],
   "source": [
    "# Convolution using the normal Kernel\n",
    "convolved_image_normal = convolve2d(M31_Pixels, kernel, mode = 'same') # mode keeps the size of output image same as the original"
   ]
  },
  {
   "cell_type": "code",
   "execution_count": null,
   "id": "142fa022",
   "metadata": {},
   "outputs": [],
   "source": [
    "# Convolution using the Gaussian Kernel\n",
    "convolved_image_gaussian = convolve2d(M31_Pixels, Gaussian_Kernel, mode = 'same')"
   ]
  },
  {
   "cell_type": "code",
   "execution_count": null,
   "id": "de91d1b1",
   "metadata": {},
   "outputs": [],
   "source": [
    "# Visualizing the convolved_image_normal\n",
    "pixel_plot(convolved_image_normal, title = 'Normal Kernel Convolution', color = 'lime')"
   ]
  },
  {
   "cell_type": "code",
   "execution_count": null,
   "id": "f5cff05a",
   "metadata": {},
   "outputs": [],
   "source": [
    "# Visualizing the convolved_image_gaussian\n",
    "pixel_plot(convolved_image_gaussian, title = 'Gaussian Kernel Convolution', color = 'lime')"
   ]
  },
  {
   "cell_type": "code",
   "execution_count": null,
   "id": "6de3f44e",
   "metadata": {},
   "outputs": [],
   "source": [
    "# Using zsi_image_array_gray with Gaussian Kernel\n",
    "\n",
    "convolved_image_gaussian_zsi = convolve2d(zsi_image_array_gray, Gaussian_Kernel, mode = 'same')"
   ]
  },
  {
   "cell_type": "code",
   "execution_count": null,
   "id": "79452b21",
   "metadata": {},
   "outputs": [],
   "source": [
    "# Visualizing\n",
    "pixel_plot(convolved_image_gaussian_zsi, title = 'Gaussian Kernel Convolution with ZSI Image', color = 'lime')"
   ]
  },
  {
   "cell_type": "code",
   "execution_count": null,
   "id": "76dce35c",
   "metadata": {},
   "outputs": [],
   "source": [
    "# Getting Histogram\n",
    "plt.hist(convolved_image_gaussian_zsi.flat, bins=300)\n",
    "plt.show()"
   ]
  },
  {
   "cell_type": "markdown",
   "id": "950e8a15",
   "metadata": {},
   "source": [
    "### **Enhancing the Linear Features**"
   ]
  },
  {
   "cell_type": "code",
   "execution_count": null,
   "id": "55e3d3f3",
   "metadata": {},
   "outputs": [],
   "source": [
    "# Creating a Spectral List\n",
    "Spectral_list = ['gray', 'jet', 'hot', 'prism', 'nipy_spectral']"
   ]
  },
  {
   "cell_type": "code",
   "execution_count": null,
   "id": "e4d3dd6e",
   "metadata": {},
   "outputs": [],
   "source": [
    "# Importing meijering and sato filters from skimage\n",
    "from skimage.filters import meijering, sato"
   ]
  },
  {
   "cell_type": "code",
   "execution_count": null,
   "id": "8b80c1af",
   "metadata": {},
   "outputs": [],
   "source": [
    "# Using the filters\n",
    "meijering_output = meijering(convolved_image_gaussian_zsi)\n",
    "sato_output = sato(convolved_image_gaussian_zsi)"
   ]
  },
  {
   "cell_type": "code",
   "execution_count": null,
   "id": "908c9c19",
   "metadata": {},
   "outputs": [],
   "source": [
    "# For each Spectral list element, visualizing the output for the meijering filter:\n",
    "for cm in Spectral_list:\n",
    "  plt.imshow(meijering_output, cmap = cm, origin = 'lower')\n",
    "  plt.title(f'Meijering Output with {cm}')\n",
    "  plt.axis('off')\n",
    "  plt.show()"
   ]
  },
  {
   "cell_type": "code",
   "execution_count": null,
   "id": "9e346941",
   "metadata": {},
   "outputs": [],
   "source": [
    "# For each Spectral list element, visualizing the output for the sato filter:\n",
    "for cm in Spectral_list:\n",
    "  plt.imshow(sato_output, cmap = cm, origin = 'lower')\n",
    "  plt.title(f'Sato Output with {cm}')\n",
    "  plt.axis('off')\n",
    "  plt.show()"
   ]
  },
  {
   "cell_type": "markdown",
   "id": "ef753b9a",
   "metadata": {},
   "source": [
    "### **Feature Detection and Extraction**"
   ]
  },
  {
   "cell_type": "code",
   "execution_count": null,
   "id": "eb31b184",
   "metadata": {},
   "outputs": [],
   "source": [
    "# Corner_Foerstner\n",
    "from skimage.feature import corner_foerstner"
   ]
  },
  {
   "cell_type": "code",
   "execution_count": null,
   "id": "e93267d1",
   "metadata": {},
   "outputs": [],
   "source": [
    "feature_output = corner_foerstner(convolved_image_gaussian_zsi)"
   ]
  },
  {
   "cell_type": "code",
   "execution_count": null,
   "id": "09c4db3f",
   "metadata": {},
   "outputs": [],
   "source": [
    "print('Length :', len(feature_output))\n",
    "print('Type :', type(feature_output))"
   ]
  },
  {
   "cell_type": "code",
   "execution_count": null,
   "id": "b74c77e5",
   "metadata": {},
   "outputs": [],
   "source": [
    "# Visualizing\n",
    "for cm in Spectral_list:\n",
    "  plt.subplot(1, 2, 1)\n",
    "  plt.imshow(feature_output[0], cmap = cm, origin = 'lower')\n",
    "  plt.title(f'Error Image with {cm}')\n",
    "  plt.axis('off')\n",
    "\n",
    "  plt.subplot(1, 2, 2)\n",
    "  plt.imshow(feature_output[1], cmap = cm, origin = 'lower')\n",
    "  plt.title(f'Roundness of error with {cm}')\n",
    "  plt.axis('off')\n",
    "\n",
    "  plt.tight_layout()\n",
    "  plt.show()"
   ]
  },
  {
   "cell_type": "markdown",
   "id": "b7e2cf01",
   "metadata": {},
   "source": [
    "### **MultiScale_Basic_Features**"
   ]
  },
  {
   "cell_type": "code",
   "execution_count": null,
   "id": "2b04acd2",
   "metadata": {},
   "outputs": [],
   "source": [
    "from skimage.feature import multiscale_basic_features"
   ]
  },
  {
   "cell_type": "code",
   "execution_count": null,
   "id": "d22f6c4f",
   "metadata": {},
   "outputs": [],
   "source": [
    "feature_image = multiscale_basic_features(convolved_image_gaussian_zsi)"
   ]
  },
  {
   "cell_type": "code",
   "execution_count": null,
   "id": "0691617d",
   "metadata": {},
   "outputs": [],
   "source": [
    "type(feature_image)"
   ]
  },
  {
   "cell_type": "code",
   "execution_count": null,
   "id": "3edd7264",
   "metadata": {},
   "outputs": [],
   "source": [
    "feature_image.shape"
   ]
  },
  {
   "cell_type": "code",
   "execution_count": null,
   "id": "168cceaa",
   "metadata": {},
   "outputs": [],
   "source": [
    "# Splitting and storing all 24 channels\n",
    "P1,P2,P3,P4,P5,P6,P7,P8,P9,P10,P11,P12,P13,P14,P15,P16,P17,P18,P19,P20,P21,P22,P23,P24 = cv2.split(feature_image)"
   ]
  },
  {
   "cell_type": "code",
   "execution_count": null,
   "id": "eebe63a7",
   "metadata": {},
   "outputs": [],
   "source": [
    "P1.shape"
   ]
  },
  {
   "cell_type": "code",
   "execution_count": null,
   "id": "f60c2f00",
   "metadata": {},
   "outputs": [],
   "source": [
    "P24.shape"
   ]
  },
  {
   "cell_type": "code",
   "execution_count": null,
   "id": "1ae9c49c",
   "metadata": {},
   "outputs": [],
   "source": [
    "# Creating a list of these pixels\n",
    "Pixels = [P1,P2,P3,P4,P5,P6,P7,P8,P9,P10,P11,P12,P13,P14,P15,P16,P17,P18,P19,P20,P21,P22,P23,P24]"
   ]
  },
  {
   "cell_type": "code",
   "execution_count": null,
   "id": "c9a6ae07",
   "metadata": {},
   "outputs": [],
   "source": [
    "# Visualizing all in prism\n",
    "for i, feature in enumerate(Pixels):\n",
    "  plt.imshow(feature, cmap = 'prism', origin = 'lower')\n",
    "  plt.title(f'Feature {i+1}')\n",
    "  plt.axis('off')\n",
    "  plt.show()"
   ]
  },
  {
   "cell_type": "code",
   "execution_count": null,
   "id": "4fc1809e",
   "metadata": {},
   "outputs": [],
   "source": []
  },
  {
   "cell_type": "code",
   "execution_count": null,
   "id": "56ef75c4",
   "metadata": {},
   "outputs": [],
   "source": []
  }
 ],
 "metadata": {
  "kernelspec": {
   "display_name": "Python 3 (ipykernel)",
   "language": "python",
   "name": "python3"
  },
  "language_info": {
   "codemirror_mode": {
    "name": "ipython",
    "version": 3
   },
   "file_extension": ".py",
   "mimetype": "text/x-python",
   "name": "python",
   "nbconvert_exporter": "python",
   "pygments_lexer": "ipython3",
   "version": "3.9.7"
  }
 },
 "nbformat": 4,
 "nbformat_minor": 5
}
